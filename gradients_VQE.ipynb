{
 "cells": [
  {
   "cell_type": "code",
   "execution_count": 50,
   "id": "e22cd62d",
   "metadata": {},
   "outputs": [],
   "source": [
    "import numpy as np\n",
    "from qiskit import QuantumCircuit\n",
    "from qiskit.circuit import Parameter\n",
    "\n",
    "from qiskit.quantum_info.operators import Operator, Pauli\n",
    "from qiskit.extensions import RXGate, RZGate\n",
    "from qiskit.circuit import QuantumRegister,ClassicalRegister\n",
    "from qiskit import  execute, BasicAer\n",
    "import qiskit.quantum_info as qi\n",
    "import scipy.optimize \n",
    "import random\n",
    "import matplotlib.pyplot as plt\n",
    "import pickle\n",
    "import os \n",
    "from sklearn.model_selection import train_test_split\n",
    "import time\n",
    "from qiskit_machine_learning.algorithms.classifiers import VQC\n",
    "from qiskit.circuit.library import RealAmplitudes,EfficientSU2\n",
    "from sklearn.utils import shuffle\n",
    "\n",
    "from qiskit.primitives import Sampler\n",
    "from qiskit.circuit.library import ZZFeatureMap,ZFeatureMap\n",
    "from qiskit_algorithms.optimizers import COBYLA\n",
    "from IPython.display import clear_output\n",
    "from qiskit import  execute, BasicAer\n",
    "\n",
    "from qiskit.circuit import ParameterVector\n",
    "\n",
    "from qiskit.primitives import Sampler\n",
    "from qiskit_machine_learning.neural_networks import SamplerQNN\n",
    "from qiskit.circuit.library import ZZFeatureMap\n",
    "from qiskit_algorithms.utils import algorithm_globals\n",
    "from qiskit.quantum_info import SparsePauliOp\n",
    "from qiskit_machine_learning.neural_networks import EstimatorQNN\n",
    "from qiskit.opflow import I, Z, X\n",
    "from qiskit.primitives import Estimator"
   ]
  },
  {
   "cell_type": "code",
   "execution_count": 36,
   "id": "177bf285",
   "metadata": {},
   "outputs": [],
   "source": [
    "j_coupling = -1 #coupling constant J\n",
    "h_coupling = -3 #coupling constant h\n",
    "num_qubits=4\n"
   ]
  },
  {
   "cell_type": "code",
   "execution_count": 37,
   "id": "1a052893",
   "metadata": {},
   "outputs": [],
   "source": [
    "qr = QuantumRegister(num_qubits)\n",
    "qc = QuantumCircuit(qr)\n",
    "ansatz = RealAmplitudes(num_qubits=num_qubits,reps=num_qubits)\n",
    "\n",
    "qc.h(qr)\n",
    "qc.compose(ansatz, inplace=True)  \n",
    "\n",
    "observable = SparsePauliOp.from_list([(\"X\"+\"I\"*(num_qubits-1) , h_coupling )])\n",
    "\n",
    "for i in np.arange(1,num_qubits,1):\n",
    "    observable=observable + SparsePauliOp.from_list([(\"I\"*(i)+\"X\"+\"I\"*(num_qubits-1-i) , h_coupling )])\n",
    "    \n",
    "for i in range(num_qubits-1):\n",
    "    observable=observable + (SparsePauliOp.from_list([(\"I\"*(i)+\"ZZ\"+\"I\"*(num_qubits-2-i) , j_coupling)]))\n"
   ]
  },
  {
   "cell_type": "code",
   "execution_count": 51,
   "id": "89d8399a",
   "metadata": {},
   "outputs": [
    {
     "data": {
      "text/plain": [
       "SparsePauliOp(['XIII', 'IXII', 'IIXI', 'IIIX', 'ZZII', 'IZZI', 'IIZZ'],\n",
       "              coeffs=[-3.+0.j, -3.+0.j, -3.+0.j, -3.+0.j, -1.+0.j, -1.+0.j, -1.+0.j])"
      ]
     },
     "execution_count": 51,
     "metadata": {},
     "output_type": "execute_result"
    }
   ],
   "source": [
    "observable"
   ]
  },
  {
   "cell_type": "code",
   "execution_count": 39,
   "id": "677a1f9c",
   "metadata": {
    "scrolled": true
   },
   "outputs": [
    {
     "data": {
      "image/png": "[encoded data removed]",
      "text/plain": [
       "<Figure size 1002.87x264.88 with 1 Axes>"
      ]
     },
     "execution_count": 39,
     "metadata": {},
     "output_type": "execute_result"
    }
   ],
   "source": [
    "qc.decompose().draw('mpl')"
   ]
  },
  {
   "cell_type": "code",
   "execution_count": 60,
   "id": "feb6308e",
   "metadata": {},
   "outputs": [
    {
     "data": {
      "text/plain": [
       "<qiskit.primitives.estimator.Estimator at 0x16b9f6aa0>"
      ]
     },
     "execution_count": 60,
     "metadata": {},
     "output_type": "execute_result"
    }
   ],
   "source": [
    "Estimator(options={\"shots\":100})"
   ]
  },
  {
   "cell_type": "code",
   "execution_count": null,
   "id": "428a4e31",
   "metadata": {},
   "outputs": [],
   "source": []
  },
  {
   "cell_type": "code",
   "execution_count": 68,
   "id": "1478a170",
   "metadata": {},
   "outputs": [],
   "source": [
    "\n",
    "qnn=EstimatorQNN(\n",
    "    estimator=Estimator(options={\"shots\":1000}),\n",
    "    circuit=qc,\n",
    "    weight_params=ansatz.parameters,\n",
    "    observables=observable\n",
    "    )"
   ]
  },
  {
   "cell_type": "code",
   "execution_count": 69,
   "id": "2bf81216",
   "metadata": {},
   "outputs": [
    {
     "data": {
      "text/plain": [
       "20"
      ]
     },
     "execution_count": 69,
     "metadata": {},
     "output_type": "execute_result"
    }
   ],
   "source": [
    "qnn.num_weights"
   ]
  },
  {
   "cell_type": "code",
   "execution_count": 70,
   "id": "eb4193b0",
   "metadata": {},
   "outputs": [],
   "source": [
    "init=np.random.rand(qnn.num_weights)*2*np.pi"
   ]
  },
  {
   "cell_type": "code",
   "execution_count": 71,
   "id": "4cb3f5e8",
   "metadata": {
    "scrolled": true
   },
   "outputs": [
    {
     "name": "stdout",
     "output_type": "stream",
     "text": [
      "0.10151124000549316\n"
     ]
    }
   ],
   "source": [
    "t1=time.time()\n",
    "input_grad,weight_grad=qnn.backward([],init)\n",
    "print(time.time()-t1)"
   ]
  },
  {
   "cell_type": "code",
   "execution_count": null,
   "id": "b4843106",
   "metadata": {},
   "outputs": [],
   "source": []
  },
  {
   "cell_type": "code",
   "execution_count": 72,
   "id": "146c1952",
   "metadata": {},
   "outputs": [],
   "source": [
    "def callback_graph(x,name='loss'):\n",
    "    #clear_output(wait=True)\n",
    "    plt.title(\"Training curve\")\n",
    "    plt.xlabel(\"Iteration\")\n",
    "    plt.ylabel(name)\n",
    "    plt.plot(range(len(x)), x)\n",
    "    plt.show()"
   ]
  },
  {
   "cell_type": "code",
   "execution_count": 73,
   "id": "99aca14e",
   "metadata": {},
   "outputs": [],
   "source": [
    "def computeMag(x):\n",
    "    x2=x**2\n",
    "    return x2.sum()"
   ]
  },
  {
   "cell_type": "code",
   "execution_count": 74,
   "id": "5dc73936",
   "metadata": {
    "scrolled": false
   },
   "outputs": [
    {
     "data": {
      "image/png": "[encoded data removed]",
      "text/plain": [
       "<Figure size 432x288 with 1 Axes>"
      ]
     },
     "metadata": {
      "needs_background": "light"
     },
     "output_type": "display_data"
    },
    {
     "data": {
      "image/png": "[encoded data removed]",
      "text/plain": [
       "<Figure size 432x288 with 1 Axes>"
      ]
     },
     "metadata": {
      "needs_background": "light"
     },
     "output_type": "display_data"
    },
    {
     "name": "stdout",
     "output_type": "stream",
     "text": [
      "190\n"
     ]
    }
   ],
   "source": [
    "init_weights=np.random.rand(qnn.num_weights)*2*np.pi\n",
    "weights=init_weights\n",
    "\n",
    "nSteps=200\n",
    "learning_rate=1e-2\n",
    "loss=[]\n",
    "gradMag=[]\n",
    "for i in range(nSteps):\n",
    "    \n",
    "        \n",
    "\n",
    "    vev=qnn.forward([], weights)[0][0]\n",
    "    input_grad, weight_grad=qnn.backward([],weights)\n",
    "    grad=weight_grad[0,0,:]\n",
    "    weights=weights-learning_rate*grad\n",
    "\n",
    "    loss.append(vev)\n",
    "    gradMag.append(computeMag(grad))\n",
    "    \n",
    "    if i%10==0:\n",
    "        \n",
    "        clear_output(wait=True)\n",
    "        plt.figure(1)\n",
    "\n",
    "        callback_graph(loss)\n",
    "        plt.figure(2)\n",
    "        plt.yscale('log')\n",
    "        callback_graph(gradMag,\"gradient magnitude\")\n",
    "        print(i)\n"
   ]
  },
  {
   "cell_type": "code",
   "execution_count": null,
   "id": "7d3c2f40",
   "metadata": {},
   "outputs": [],
   "source": []
  },
  {
   "cell_type": "code",
   "execution_count": null,
   "id": "f4932b82",
   "metadata": {},
   "outputs": [],
   "source": []
  },
  {
   "cell_type": "code",
   "execution_count": null,
   "id": "8b2d16a0",
   "metadata": {},
   "outputs": [],
   "source": []
  },
  {
   "cell_type": "code",
   "execution_count": null,
   "id": "33eab8b2",
   "metadata": {},
   "outputs": [],
   "source": []
  },
  {
   "cell_type": "code",
   "execution_count": null,
   "id": "e84e1d77",
   "metadata": {},
   "outputs": [],
   "source": []
  },
  {
   "cell_type": "code",
   "execution_count": null,
   "id": "4e9eee8a",
   "metadata": {},
   "outputs": [],
   "source": []
  },
  {
   "cell_type": "code",
   "execution_count": null,
   "id": "9499722e",
   "metadata": {},
   "outputs": [],
   "source": []
  },
  {
   "cell_type": "code",
   "execution_count": null,
   "id": "dda152d8",
   "metadata": {},
   "outputs": [],
   "source": []
  },
  {
   "cell_type": "code",
   "execution_count": null,
   "id": "482d8e4c",
   "metadata": {},
   "outputs": [],
   "source": []
  },
  {
   "cell_type": "code",
   "execution_count": null,
   "id": "0b0380bf",
   "metadata": {},
   "outputs": [],
   "source": [
    "def getGradient_pShift(qnn,weights):\n",
    "    grad=[]\n",
    "    for i in range(len(weights)):\n",
    "        weights_plus=weights.copy()\n",
    "        weights_plus[i]+=np.pi/2\n",
    "        weights_minus=weights.copy()\n",
    "        weights_minus[i]-=np.pi/2\n",
    "        plus=qnn.forward([],weights_plus)\n",
    "        minus=qnn.forward([],weights_minus)\n",
    "        grad.append(0.5*(plus-minus))\n",
    "    return np.array(grad)[:,0,0]\n",
    "\n",
    "def getHessian_pShift(qnn,weights):\n",
    "    #grad=[]\n",
    "    hess=np.zeros([len(weights),len(weights)])\n",
    "    angle_div=1/4\n",
    "    angle=np.pi*angle_div\n",
    "    for i in range(len(weights)):\n",
    "        for j in np.arange(i,len(weights),1):\n",
    "            tmpWeights=np.array([weights.copy()]*4)\n",
    "            tmpWeights[0][i]+=angle\n",
    "            tmpWeights[0][j]+=angle\n",
    "            \n",
    "            tmpWeights[1][i]-=angle\n",
    "            tmpWeights[1][j]+=angle\n",
    "            \n",
    "            tmpWeights[2][i]+=angle\n",
    "            tmpWeights[2][j]-=angle\n",
    "        \n",
    "            tmpWeights[3][i]-=angle\n",
    "            tmpWeights[3][j]-=angle\n",
    "            \n",
    "            plusPlus=qnn.forward([],tmpWeights[0])\n",
    "            minusPlus=qnn.forward([],tmpWeights[1])\n",
    "            plusMinus=qnn.forward([],tmpWeights[2])\n",
    "            minusMinus=qnn.forward([],tmpWeights[3])\n",
    "                \n",
    "            hess[i][j]=(angle_div*angle_div)*(plusPlus+minusMinus-minusPlus-plusMinus)\n",
    "            hess[j][i]=(angle_div*angle_div)*(plusPlus+minusMinus-minusPlus-plusMinus)\n",
    "            #grad.append((angle_div*angle_div)*(plusPlus+minusMinus-minusPlus-plusMinus))\n",
    "    #hess=np.array(grad)[:,0,0].reshape(len(weights),len(weights))\n",
    "    return hess\n",
    "        "
   ]
  },
  {
   "cell_type": "code",
   "execution_count": null,
   "id": "85b0ee8f",
   "metadata": {},
   "outputs": [],
   "source": []
  },
  {
   "cell_type": "code",
   "execution_count": null,
   "id": "c2a893bc",
   "metadata": {},
   "outputs": [],
   "source": []
  }
 ],
 "metadata": {
  "kernelspec": {
   "display_name": "qc",
   "language": "python",
   "name": "qc"
  },
  "language_info": {
   "codemirror_mode": {
    "name": "ipython",
    "version": 3
   },
   "file_extension": ".py",
   "mimetype": "text/x-python",
   "name": "python",
   "nbconvert_exporter": "python",
   "pygments_lexer": "ipython3",
   "version": "3.10.4"
  }
 },
 "nbformat": 4,
 "nbformat_minor": 5
}
