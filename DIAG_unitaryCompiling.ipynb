{
 "cells": [
  {
   "cell_type": "code",
   "execution_count": 4,
   "id": "bfdb962a",
   "metadata": {},
   "outputs": [],
   "source": [
    "from qiskit_algorithms.utils import algorithm_globals\n",
    "\n",
    "from qiskit.circuit import Parameter\n",
    "from qiskit import QuantumCircuit\n",
    "from qiskit.quantum_info import SparsePauliOp\n",
    "from qiskit_machine_learning.neural_networks import EstimatorQNN\n",
    "from qiskit.circuit import ParameterVector\n",
    "\n",
    "from qiskit.primitives import Sampler\n",
    "from qiskit_machine_learning.neural_networks import SamplerQNN\n",
    "\n",
    "import time\n",
    "import qiskit.quantum_info as qi\n",
    "import matplotlib.pyplot as plt\n",
    "import numpy as np\n",
    "\n",
    "from qiskit.circuit import QuantumRegister,ClassicalRegister\n",
    "from IPython.display import clear_output\n",
    "\n",
    "from scipy.special import rel_entr\n",
    "import pickle"
   ]
  },
  {
   "cell_type": "code",
   "execution_count": 5,
   "id": "99c217dc",
   "metadata": {},
   "outputs": [],
   "source": [
    "\n",
    "def countZero(x):\n",
    "    '''\n",
    "    A function that evaluates the bitstring, all 0 bitstring gets mapped to 0 \n",
    "    '''\n",
    "    out=f\"{bin(x)}\".count(\"1\")\n",
    "    if out==0:\n",
    "        return 0\n",
    "    else:\n",
    "        return 1\n",
    "\n",
    "def make_ansatz(qc_ansatz,num_layers,num_qubits,weights):\n",
    "    params_index = 0 #index counter\n",
    "    for layer in range(num_layers):\n",
    "              \n",
    "        for i in range(num_qubits):\n",
    "            qc_ansatz.rx(weights[params_index],i)\n",
    "            params_index += 1\n",
    "            \n",
    "        for i in range(num_qubits):\n",
    "            qc_ansatz.ry(weights[params_index],i)\n",
    "            params_index += 1\n",
    "            \n",
    "        for i in range(num_qubits):\n",
    "            qc_ansatz.rz(weights[params_index],i)\n",
    "            params_index += 1\n",
    "            \n",
    "        for i in range(num_qubits-1):\n",
    "            qc_ansatz.cy(i,i+1)\n",
    "               \n",
    "    return qc_ansatz\n",
    "\n",
    "#A function that gives the Unitary of some ansatz.\n",
    "def make_ansatz_unitary(num_layers,num_qubits,params):\n",
    "    qr = QuantumRegister(num_qubits,'qr') #quantum register\n",
    "    cr = ClassicalRegister(num_qubits,'cr') #classical register\n",
    "    qc = QuantumCircuit(qr,cr) #construct ansatz\n",
    "    qc=make_ansatz(qc,num_layers,num_qubits,params)\n",
    "    qc.draw('mpl')\n",
    "    return qi.Operator(qc)\n",
    "\n",
    "#Create the sampler that computes the HS cost.\n",
    "def mkSampler(U_target):\n",
    "    inputs = ParameterVector(\"input\", 0)\n",
    "    weights = ParameterVector(\"weight\", n_params)\n",
    "    #print(f\"input parameters: {[str(item) for item in inputs.params]}\")\n",
    "    #print(f\"weight parameters: {[str(item) for item in weights.params]}\")\n",
    "    params_index=0\n",
    "    qc = QuantumCircuit(2*n_qubits)\n",
    "    qr=qc.qubits\n",
    "    A = [qr[i] for i in range(n_qubits)]\n",
    "    B = [qr[i] for i in range(n_qubits,n_qubits*2)]\n",
    "\n",
    "\n",
    "    qc.h(A)\n",
    "    qc.barrier()\n",
    "    qc.cx(A,B)\n",
    "    qc.barrier()\n",
    "    for layer in range(n_layers):        \n",
    "            for i in range(n_qubits):\n",
    "                qc.rx(weights[params_index],i)\n",
    "                params_index += 1\n",
    "\n",
    "            for i in range(n_qubits):\n",
    "                qc.ry(weights[params_index],i)\n",
    "                params_index += 1\n",
    "\n",
    "            for i in range(n_qubits):\n",
    "                qc.rz(weights[params_index],i)\n",
    "                params_index += 1\n",
    "                \n",
    "            for i in range(n_qubits-1):\n",
    "                qc.cy(i,i+1)\n",
    "                \n",
    "    qc.unitary(U_target.conjugate(),qubits=B, label='$U_{target}^{*}$')\n",
    "    qc.barrier()\n",
    "    qc.cx(A,B)\n",
    "    qc.barrier()\n",
    "    qc.h(A)\n",
    "    qc.barrier()\n",
    "    sampler_qnn = SamplerQNN(circuit=qc,input_params=inputs, weight_params=weights,\n",
    "                         interpret=countZero,output_shape=2\n",
    "                        )\n",
    "    return qc,sampler_qnn\n",
    "    \n",
    "    \n",
    "    \n",
    "def callback_graph(x,name='loss'):\n",
    "    #clear_output(wait=True)\n",
    "    plt.title(\"Training curve\")\n",
    "    plt.xlabel(\"Iteration\")\n",
    "    plt.ylabel(name)\n",
    "    plt.plot(range(len(x)), x)\n",
    "    plt.show()"
   ]
  },
  {
   "cell_type": "code",
   "execution_count": 352,
   "id": "c7e7a65e",
   "metadata": {},
   "outputs": [],
   "source": [
    "n_qubits=5\n",
    "dims=2**n_qubits\n",
    "n_layers=2\n",
    "n_params=n_qubits*n_layers*3\n",
    "#shots = 1000\n",
    "#sampler = Sampler(options={\"shots\": shots})\n",
    "\n",
    "n_train=100\n",
    "zeroState = '0'\n",
    "for i in range(n_qubits-1):\n",
    "    zeroState+='0'"
   ]
  },
  {
   "cell_type": "code",
   "execution_count": 353,
   "id": "96d2f641",
   "metadata": {},
   "outputs": [],
   "source": [
    "# Create a target U\n",
    "targetParams=np.random.rand(n_params)*np.pi*2\n",
    "U_target=make_ansatz_unitary(num_qubits=n_qubits,num_layers=n_layers,params=targetParams)\n",
    "U_target=np.array(U_target)"
   ]
  },
  {
   "cell_type": "code",
   "execution_count": 354,
   "id": "a57022a6",
   "metadata": {},
   "outputs": [
    {
     "name": "stdout",
     "output_type": "stream",
     "text": [
      "number of parameters:  30\n"
     ]
    }
   ],
   "source": [
    "qc,sampler=mkSampler(U_target)\n",
    "print(\"number of parameters: \",qc.num_parameters)\n",
    "sampler_input = np.array([])\n",
    "sampler_weights = algorithm_globals.random.random(sampler.num_weights)"
   ]
  },
  {
   "cell_type": "code",
   "execution_count": 355,
   "id": "3f6bd502",
   "metadata": {},
   "outputs": [],
   "source": [
    "def getMag(x):\n",
    "    x2=x**2\n",
    "    return np.sqrt(x2.sum())\n",
    "\n",
    "def getCos(x,y):\n",
    "    cos=(x*y).sum()/(getMag(x)*getMag(y))\n",
    "    return cos\n",
    "\n",
    "def getDot(sampler,weights,rate):\n",
    "    input_grad,weight_grad=sampler.backward(sampler_input,weights)\n",
    "    grad0=weight_grad[0][1]\n",
    "    \n",
    "    newWeights=weights-rate*grad0\n",
    "    input_grad,weight_grad=sampler.backward(sampler_input,newWeights)\n",
    "    grad1=weight_grad[0][1]\n",
    "    \n",
    "    \n",
    "    return getCos(grad0,grad1),grad0,newWeights\n",
    "    "
   ]
  },
  {
   "cell_type": "code",
   "execution_count": 356,
   "id": "deb29cc1",
   "metadata": {},
   "outputs": [
    {
     "name": "stdout",
     "output_type": "stream",
     "text": [
      "0.03456377983093262\n"
     ]
    }
   ],
   "source": [
    "t1=time.time()\n",
    "weights=sampler_weights\n",
    "sampler.forward(sampler_input,weights)\n",
    "print(time.time()-t1)"
   ]
  },
  {
   "cell_type": "code",
   "execution_count": 357,
   "id": "4e2f11f8",
   "metadata": {},
   "outputs": [
    {
     "name": "stdout",
     "output_type": "stream",
     "text": [
      "0.5421533584594727\n"
     ]
    }
   ],
   "source": [
    "t1=time.time()\n",
    "sampler.backward(sampler_input,weights)\n",
    "print(time.time()-t1)"
   ]
  },
  {
   "cell_type": "code",
   "execution_count": null,
   "id": "c010226b",
   "metadata": {},
   "outputs": [],
   "source": []
  },
  {
   "cell_type": "code",
   "execution_count": null,
   "id": "3176185a",
   "metadata": {},
   "outputs": [],
   "source": []
  },
  {
   "cell_type": "code",
   "execution_count": 358,
   "id": "7a76b318",
   "metadata": {},
   "outputs": [],
   "source": [
    "def iteration(sampler,input_weights,steps=15,ini_rate=1e-1):\n",
    "    dot_list=[]\n",
    "    r_list=[]\n",
    "    w_list=[]\n",
    "    grad_list=[]\n",
    "    weights=input_weights\n",
    "    output_weights=input_weights\n",
    "    output_rate=ini_rate\n",
    "    rate=ini_rate\n",
    "    for i in range(steps):\n",
    "        dot,grad,weights=getDot(sampler,weights,rate)\n",
    "        rate=rate*2\n",
    "\n",
    "        if dot < -0.3:\n",
    "            print(\"dot stop\")\n",
    "            output_rate=rate\n",
    "            #output_weights=weights\n",
    "            output_weights=(w_list[-1]+weights)/2\n",
    "            break\n",
    "            \n",
    "        if i>1 and dot_list[-1]-dot>0.3:\n",
    "            print(\"dot diff stop, dot= \",dot_list[-1],dot)\n",
    "            if dot>0:\n",
    "                output_weights=weights\n",
    "                output_rate=rate\n",
    "            elif dot<=0:\n",
    "                output_rate=rate\n",
    "                output_weights=(w_list[-1]+weights)/2\n",
    "        \n",
    "            break\n",
    "            \n",
    "            \n",
    "        \n",
    "        dot_list.append(dot)\n",
    "        r_list.append(rate)\n",
    "        w_list.append(weights)\n",
    "        grad_list.append(grad)\n",
    "            \n",
    "    if output_weights.all()==weights.all():\n",
    "        dot_list=np.array(dot_list)\n",
    "        diff=(dot_list[0:-1]-dot_list[1:])\n",
    "        index=np.where(diff==diff.max())[0][0]\n",
    "        output_weights=w_list[index]\n",
    "        output_rate=r_list[index]\n",
    "        \n",
    "    \n",
    "    return output_weights,output_rate\n",
    "        "
   ]
  },
  {
   "cell_type": "code",
   "execution_count": 359,
   "id": "c3182f05",
   "metadata": {
    "scrolled": false
   },
   "outputs": [
    {
     "name": "stdout",
     "output_type": "stream",
     "text": [
      "dot stop\n"
     ]
    },
    {
     "data": {
      "image/png": "[encoded data removed]",
      "text/plain": [
       "<Figure size 432x288 with 1 Axes>"
      ]
     },
     "metadata": {
      "needs_background": "light"
     },
     "output_type": "display_data"
    },
    {
     "data": {
      "image/png": "[encoded data removed]",
      "text/plain": [
       "<Figure size 432x288 with 1 Axes>"
      ]
     },
     "metadata": {
      "needs_background": "light"
     },
     "output_type": "display_data"
    }
   ],
   "source": [
    "weights=sampler_weights\n",
    "ini_rate=1e-1\n",
    "cost_list_DIAG=[]\n",
    "rate_list=[]\n",
    "for i in range(n_train):\n",
    "    clear_output(wait=True)\n",
    "    weights,rate=iteration(sampler,weights,steps=20,ini_rate=ini_rate)\n",
    "    ini_rate=rate/10\n",
    "    cost=sampler.forward(sampler_input,weights)[0][1]\n",
    "    cost_list_DIAG.append(cost)\n",
    "    rate_list.append(rate)\n",
    "\n",
    "    plt.figure(1)\n",
    "\n",
    "    plt.xlabel('Iteration')\n",
    "    plt.plot(range(len(cost_list_DIAG)),cost_list_DIAG)\n",
    "    plt.yscale('log')\n",
    "    plt.show()\n",
    "    \n",
    "    plt.figure(2)\n",
    "    plt.xlabel('Iteration')\n",
    "    plt.plot(range(len(rate_list)),rate_list)\n",
    "    plt.yscale('log')\n",
    "    plt.show()\n",
    "    \n",
    "    if cost<1e-5:\n",
    "        break\n",
    "    print(i, cost,rate)\n",
    "    "
   ]
  },
  {
   "cell_type": "code",
   "execution_count": null,
   "id": "841b5e95",
   "metadata": {},
   "outputs": [],
   "source": []
  },
  {
   "cell_type": "markdown",
   "id": "39cb767c",
   "metadata": {},
   "source": [
    "DIAG+LBFGS"
   ]
  },
  {
   "cell_type": "code",
   "execution_count": 360,
   "id": "f574d30b",
   "metadata": {},
   "outputs": [],
   "source": [
    "import torch\n",
    "from torch.autograd import Variable\n",
    "from torch import Tensor\n",
    "from torch.nn import Linear, CrossEntropyLoss, MSELoss\n",
    "from torch.optim import LBFGS\n",
    "from qiskit_machine_learning.connectors import TorchConnector\n",
    "from torch.optim import Adam,SGD"
   ]
  },
  {
   "cell_type": "code",
   "execution_count": 361,
   "id": "8e1d82fe",
   "metadata": {},
   "outputs": [],
   "source": [
    "def train_LBFGS_pytorch(sampler,lr=1e-1,max_iter=150,init = algorithm_globals.random.random(sampler.num_weights)):\n",
    "    \n",
    "    sampler_torch = TorchConnector(sampler, initial_weights=init)\n",
    "    optimizer = LBFGS(sampler_torch.parameters(),lr=lr, max_iter=max_iter)\n",
    "    f_loss = CrossEntropyLoss()  \n",
    "    X=Tensor(sampler_input)\n",
    "    y=Tensor(np.array([1,0]))\n",
    "    \n",
    "    # Start training\n",
    "    sampler_torch.train()\n",
    "    global costList\n",
    "    costList=[]\n",
    "    # Define LBFGS closure method (explained in previous section)\n",
    "    def closure():\n",
    "        global costList\n",
    "        optimizer.zero_grad(set_to_none=True)  # Initialize gradient\n",
    "        loss = f_loss(sampler_torch(X), y)  # Calculate loss\n",
    "        loss.backward()  # Backward pass\n",
    "\n",
    "        for param in sampler_torch.parameters():\n",
    "            w=param.detach().numpy()\n",
    "        cost=sampler.forward(sampler_input,w)[0][1]\n",
    "        costList.append(cost)\n",
    "        #if(len(costList)%20==0):\n",
    "        print(cost)\n",
    "\n",
    "        return loss\n",
    "\n",
    "    # Run optimizer (LBFGS requires closure)\n",
    "    optimizer.step(closure);\n",
    "        \n",
    "    return costList\n",
    "    "
   ]
  },
  {
   "cell_type": "code",
   "execution_count": 362,
   "id": "2304d457",
   "metadata": {
    "scrolled": true
   },
   "outputs": [
    {
     "name": "stdout",
     "output_type": "stream",
     "text": [
      "dot diff stop, dot=  0.7059793268716451 0.19217407565550562\n"
     ]
    },
    {
     "data": {
      "image/png": "[encoded data removed]",
      "text/plain": [
       "<Figure size 432x288 with 1 Axes>"
      ]
     },
     "metadata": {
      "needs_background": "light"
     },
     "output_type": "display_data"
    },
    {
     "data": {
      "image/png": "[encoded data removed]",
      "text/plain": [
       "<Figure size 432x288 with 1 Axes>"
      ]
     },
     "metadata": {
      "needs_background": "light"
     },
     "output_type": "display_data"
    },
    {
     "name": "stdout",
     "output_type": "stream",
     "text": [
      "11 0.0350026311582319 4.398046511104001\n",
      "0.03500263114979936\n",
      "0.0334310086944267\n",
      "0.012784467310928003\n",
      "0.005145786642113499\n",
      "0.0012522815801961006\n",
      "0.0008713770604954005\n",
      "0.0005489765802804004\n",
      "0.0003464419399188001\n",
      "0.00023307006018049995\n",
      "0.00017165499314189992\n",
      "0.00011661945864590002\n",
      "7.658224437340002e-05\n",
      "4.22102197808e-05\n",
      "1.7286069062000002e-05\n",
      "7.269583794199995e-06\n",
      "3.022203410600001e-06\n",
      "1.0507690451999997e-06\n",
      "3.0637691759999977e-07\n",
      "7.99173917e-08\n",
      "2.969518909999999e-08\n",
      "1.1158929499999998e-08\n",
      "10.269513845443726\n"
     ]
    }
   ],
   "source": [
    "weights=sampler_weights\n",
    "ini_rate=1e-1\n",
    "cost_list=[]\n",
    "rate_list=[]\n",
    "for i in range(n_train):\n",
    "    clear_output(wait=True)\n",
    "    weights,rate=iteration(sampler,weights,steps=20,ini_rate=ini_rate)\n",
    "    ini_rate=rate/10\n",
    "    cost=sampler.forward(sampler_input,weights)[0][1]\n",
    "    cost_list.append(cost)\n",
    "    rate_list.append(rate)\n",
    "\n",
    "    plt.figure(1)\n",
    "\n",
    "    plt.xlabel('Iteration')\n",
    "    plt.plot(range(len(cost_list)),cost_list)\n",
    "    plt.yscale('log')\n",
    "    plt.show()\n",
    "    \n",
    "    plt.figure(2)\n",
    "    plt.xlabel('Iteration')\n",
    "    plt.plot(range(len(rate_list)),rate_list)\n",
    "    plt.yscale('log')\n",
    "    plt.show()\n",
    "    \n",
    "    print(i, cost,rate)\n",
    "    \n",
    "    if cost<0.1:\n",
    "        break\n",
    "\n",
    "cost_list_LBFGS=[]\n",
    "t1=time.time()\n",
    "cost_list_LBFGS=train_LBFGS_pytorch(sampler,init=weights,lr=rate/10,max_iter=n_train)\n",
    "print(time.time()-t1)\n",
    "cost_list_DIAG_LBFGS  = cost_list+cost_list_LBFGS"
   ]
  },
  {
   "cell_type": "code",
   "execution_count": null,
   "id": "f10df9b8",
   "metadata": {},
   "outputs": [],
   "source": []
  },
  {
   "cell_type": "code",
   "execution_count": null,
   "id": "615a666b",
   "metadata": {},
   "outputs": [],
   "source": []
  },
  {
   "cell_type": "code",
   "execution_count": null,
   "id": "fda6dc9a",
   "metadata": {},
   "outputs": [],
   "source": []
  },
  {
   "cell_type": "code",
   "execution_count": 363,
   "id": "8577a68f",
   "metadata": {},
   "outputs": [],
   "source": [
    "import torch\n",
    "from torch.autograd import Variable\n",
    "from torch import Tensor\n",
    "from torch.nn import Linear, CrossEntropyLoss, MSELoss\n",
    "from torch.optim import LBFGS\n",
    "from qiskit_machine_learning.connectors import TorchConnector\n",
    "from torch.optim import Adam,SGD"
   ]
  },
  {
   "cell_type": "code",
   "execution_count": 364,
   "id": "b30f5b3a",
   "metadata": {},
   "outputs": [],
   "source": [
    "def train_ADAM_pytorch(sampler,lr=1e-1,max_iter=100):\n",
    "    init = algorithm_globals.random.random(sampler.num_weights)\n",
    "    sampler_torch = TorchConnector(sampler, initial_weights=init)\n",
    "    optimizer = Adam(sampler_torch.parameters(),lr=lr)\n",
    "    f_loss = CrossEntropyLoss()  \n",
    "    X=Tensor(sampler_input)\n",
    "    y=Tensor(np.array([1,0]))\n",
    "\n",
    "    \n",
    "    # Start training\n",
    "    sampler_torch.train()\n",
    "    global costList\n",
    "    costList=[]\n",
    "\n",
    "    for i in range(max_iter):\n",
    "        optimizer.zero_grad(set_to_none=True)  # Initialize gradient\n",
    "        loss = f_loss(sampler_torch(X), y)  # Calculate loss\n",
    "        loss.backward()  # Backward pass\n",
    "\n",
    "        for param in sampler_torch.parameters():\n",
    "            w=param.detach().numpy()\n",
    "        cost=sampler.forward(sampler_input,w)[0][1]\n",
    "        costList.append(cost)\n",
    "        print(cost)\n",
    "        optimizer.step();\n",
    "        if cost<1e-5:\n",
    "            break\n",
    "\n",
    "    return costList\n",
    "    "
   ]
  },
  {
   "cell_type": "code",
   "execution_count": 365,
   "id": "d8c7f9d5",
   "metadata": {
    "scrolled": true
   },
   "outputs": [],
   "source": [
    "# t1=time.time()\n",
    "# cost_list_ADAMtorch_1en1=train_ADAM_pytorch(sampler,lr=1e-1,max_iter=n_train)\n",
    "# print(time.time()-t1)"
   ]
  },
  {
   "cell_type": "code",
   "execution_count": 366,
   "id": "c999c9be",
   "metadata": {
    "scrolled": true
   },
   "outputs": [],
   "source": [
    "# t1=time.time()\n",
    "# cost_list_ADAMtorch_1e0=train_ADAM_pytorch(sampler,lr=1e0,max_iter=n_train)\n",
    "# print(time.time()-t1)"
   ]
  },
  {
   "cell_type": "code",
   "execution_count": null,
   "id": "03ba1045",
   "metadata": {},
   "outputs": [],
   "source": []
  },
  {
   "cell_type": "code",
   "execution_count": 367,
   "id": "13b2f2c8",
   "metadata": {},
   "outputs": [],
   "source": [
    "def train_LBFGS_pytorch(sampler,lr=1e-1,max_iter=150):\n",
    "    init = algorithm_globals.random.random(sampler.num_weights)\n",
    "    sampler_torch = TorchConnector(sampler, initial_weights=init)\n",
    "    optimizer = LBFGS(sampler_torch.parameters(),lr=lr, max_iter=max_iter)\n",
    "    f_loss = CrossEntropyLoss()  \n",
    "    X=Tensor(sampler_input)\n",
    "    y=Tensor(np.array([1,0]))\n",
    "    #print(sampler.forward(sampler_input,init))\n",
    "    \n",
    "    # Start training\n",
    "    sampler_torch.train()\n",
    "    global costList\n",
    "    costList=[]\n",
    "    # Define LBFGS closure method (explained in previous section)\n",
    "    def closure():\n",
    "        global costList\n",
    "        optimizer.zero_grad(set_to_none=True)  # Initialize gradient\n",
    "        loss = f_loss(sampler_torch(X), y)  # Calculate loss\n",
    "        loss.backward()  # Backward pass\n",
    "\n",
    "        for param in sampler_torch.parameters():\n",
    "            w=param.detach().numpy()\n",
    "        cost=sampler.forward(sampler_input,w)[0][1]\n",
    "        costList.append(cost)\n",
    "        #if(len(costList)%20==0):\n",
    "\n",
    "        return loss\n",
    "\n",
    "    # Run optimizer (LBFGS requires closure)\n",
    "    optimizer.step(closure);\n",
    "        \n",
    "    return costList\n",
    "    "
   ]
  },
  {
   "cell_type": "code",
   "execution_count": 368,
   "id": "3c98703a",
   "metadata": {},
   "outputs": [],
   "source": [
    "learning_rate_list=[1e-3,1e-2,5e-2,1e-1,5e-1,1e0,5e0,1e1,5e1,1e2,1e3]"
   ]
  },
  {
   "cell_type": "code",
   "execution_count": 369,
   "id": "0ae9bb8f",
   "metadata": {},
   "outputs": [
    {
     "name": "stdout",
     "output_type": "stream",
     "text": [
      "finishing  0.001  final cost = 0.9999033424904245\n",
      "finishing  0.01  final cost = 0.9995133108316593\n",
      "finishing  0.05  final cost = 0.9988074720896651\n",
      "finishing  0.1  final cost = 0.9994134592660017\n",
      "finishing  0.5  final cost = 0.9988745163808901\n",
      "finishing  1.0  final cost = 0.9989291872020688\n",
      "finishing  5.0  final cost = 0.9957610852762419\n",
      "finishing  10.0  final cost = 0.9961293937394134\n",
      "finishing  50.0  final cost = 0.9999049925836945\n",
      "finishing  100.0  final cost = 0.9995241835200214\n",
      "finishing  1000.0  final cost = 0.9998286162969846\n",
      "best learning rate = 5.0\n"
     ]
    }
   ],
   "source": [
    "test_iter=30\n",
    "finalCost_list=[]\n",
    "\n",
    "for learning_rate in learning_rate_list:\n",
    "    cost_list_LBFGStorch_test=[]\n",
    "\n",
    "    cost_list_LBFGStorch_test=train_LBFGS_pytorch(sampler,lr=learning_rate,max_iter=test_iter)\n",
    "    finalCost_list.append(cost_list_LBFGStorch_test[-1])\n",
    "    print(\"finishing \",learning_rate, \" final cost =\",cost_list_LBFGStorch_test[-1])\n",
    "    \n",
    "finalCost_list=np.array(finalCost_list)\n",
    "ind=np.where(finalCost_list==finalCost_list.min())[0][0]\n",
    "best_rate=learning_rate_list[ind]\n",
    "print(\"best learning rate =\",best_rate)"
   ]
  },
  {
   "cell_type": "code",
   "execution_count": 370,
   "id": "7fd1a9fc",
   "metadata": {},
   "outputs": [],
   "source": [
    "cost_list_LBFGStorch_best=[]\n",
    "cost_list_LBFGStorch_best=train_LBFGS_pytorch(sampler,lr=best_rate,max_iter=n_train)\n"
   ]
  },
  {
   "cell_type": "code",
   "execution_count": 371,
   "id": "9456b5f2",
   "metadata": {},
   "outputs": [
    {
     "data": {
      "text/plain": [
       "<matplotlib.legend.Legend at 0x28e3cfdf0>"
      ]
     },
     "execution_count": 371,
     "metadata": {},
     "output_type": "execute_result"
    },
    {
     "data": {
      "text/plain": [
       "<Figure size 432x288 with 0 Axes>"
      ]
     },
     "metadata": {},
     "output_type": "display_data"
    },
    {
     "data": {
      "image/png": "[encoded data removed]",
      "text/plain": [
       "<Figure size 1152x648 with 1 Axes>"
      ]
     },
     "metadata": {
      "needs_background": "light"
     },
     "output_type": "display_data"
    }
   ],
   "source": [
    "LabelSize=15\n",
    "plt.figure(1)\n",
    "plt.figure(figsize=(16,9))\n",
    "plt.yscale('log')\n",
    "# plt.ylim(1e-5,1.1)\n",
    "\n",
    "# plt.plot(range(len(cost_list_ADAMtorch_1en1)),cost_list_ADAMtorch_1en1,label='ADAM initial = 1e-1')\n",
    "# plt.plot(range(len(cost_list_ADAMtorch_1e0)),cost_list_ADAMtorch_1e0,label='ADAM initial = 1e0')\n",
    "\n",
    "plt.plot(range(len(cost_list_LBFGStorch_best)),cost_list_LBFGStorch_best,label='LBFGS rate={}'.format(best_rate))\n",
    "\n",
    "plt.plot(range(len(cost_list_DIAG)),cost_list_DIAG,label='DIAG')\n",
    "plt.plot(range(len(cost_list_DIAG_LBFGS)),cost_list_DIAG_LBFGS,label='DIAG+LBFGS')\n",
    "plt.yscale('log')\n",
    "\n",
    "plt.xlabel('Iterations',fontsize=LabelSize)\n",
    "plt.ylabel('Loss',fontsize=LabelSize)\n",
    "plt.tick_params(axis='both', which='major', labelsize=LabelSize)\n",
    "plt.legend(fontsize=LabelSize)"
   ]
  },
  {
   "cell_type": "code",
   "execution_count": null,
   "id": "e0f4beef",
   "metadata": {},
   "outputs": [],
   "source": []
  },
  {
   "cell_type": "code",
   "execution_count": null,
   "id": "29684657",
   "metadata": {},
   "outputs": [],
   "source": []
  },
  {
   "cell_type": "code",
   "execution_count": null,
   "id": "5aefc775",
   "metadata": {},
   "outputs": [],
   "source": []
  },
  {
   "cell_type": "code",
   "execution_count": null,
   "id": "a9a5a1e4",
   "metadata": {},
   "outputs": [],
   "source": []
  },
  {
   "cell_type": "code",
   "execution_count": null,
   "id": "19c7840a",
   "metadata": {},
   "outputs": [],
   "source": []
  }
 ],
 "metadata": {
  "kernelspec": {
   "display_name": "qc",
   "language": "python",
   "name": "qc"
  },
  "language_info": {
   "codemirror_mode": {
    "name": "ipython",
    "version": 3
   },
   "file_extension": ".py",
   "mimetype": "text/x-python",
   "name": "python",
   "nbconvert_exporter": "python",
   "pygments_lexer": "ipython3",
   "version": "3.10.4"
  }
 },
 "nbformat": 4,
 "nbformat_minor": 5
}
