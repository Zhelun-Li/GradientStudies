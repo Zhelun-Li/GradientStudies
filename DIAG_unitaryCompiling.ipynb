{
 "cells": [
  {
   "cell_type": "code",
   "execution_count": 1,
   "id": "bfdb962a",
   "metadata": {},
   "outputs": [],
   "source": [
    "from qiskit_algorithms.utils import algorithm_globals\n",
    "\n",
    "from qiskit.circuit import Parameter\n",
    "from qiskit import QuantumCircuit\n",
    "from qiskit.quantum_info import SparsePauliOp\n",
    "from qiskit_machine_learning.neural_networks import EstimatorQNN\n",
    "from qiskit.circuit import ParameterVector\n",
    "\n",
    "from qiskit.primitives import Sampler\n",
    "from qiskit_machine_learning.neural_networks import SamplerQNN\n",
    "\n",
    "import time\n",
    "import qiskit.quantum_info as qi\n",
    "import matplotlib.pyplot as plt\n",
    "import numpy as np\n",
    "\n",
    "from qiskit.circuit import QuantumRegister,ClassicalRegister\n",
    "from IPython.display import clear_output\n",
    "\n",
    "from scipy.special import rel_entr\n",
    "import pickle"
   ]
  },
  {
   "cell_type": "code",
   "execution_count": 3,
   "id": "99c217dc",
   "metadata": {},
   "outputs": [],
   "source": [
    "# A function that evaluates the bitstring, all 0 bitstring gets mapped to 0 \n",
    "def countZero(x):\n",
    "    out=f\"{bin(x)}\".count(\"1\")\n",
    "    if out==0:\n",
    "        return 0\n",
    "    else:\n",
    "        return 1\n",
    "\n",
    "def make_ansatz(qc_ansatz,num_layers,num_qubits,weights):\n",
    "    params_index = 0 #index counter\n",
    "    for layer in range(num_layers):\n",
    "              \n",
    "        for i in range(num_qubits):\n",
    "            qc_ansatz.rx(weights[params_index],i)\n",
    "            params_index += 1\n",
    "            \n",
    "        for i in range(num_qubits):\n",
    "            qc_ansatz.ry(weights[params_index],i)\n",
    "            params_index += 1\n",
    "            \n",
    "        for i in range(num_qubits):\n",
    "            qc_ansatz.rz(weights[params_index],i)\n",
    "            params_index += 1\n",
    "            \n",
    "        for i in range(num_qubits-1):\n",
    "            qc_ansatz.cy(i,i+1)\n",
    "               \n",
    "    return qc_ansatz\n",
    "\n",
    "#A function that gives the Unitary of some ansatz.\n",
    "def make_ansatz_unitary(num_layers,num_qubits,params):\n",
    "    qr = QuantumRegister(num_qubits,'qr') #quantum register\n",
    "    cr = ClassicalRegister(num_qubits,'cr') #classical register\n",
    "    qc = QuantumCircuit(qr,cr) #construct ansatz\n",
    "    qc=make_ansatz(qc,num_layers,num_qubits,params)\n",
    "    qc.draw('mpl')\n",
    "    return qi.Operator(qc)\n",
    "\n",
    "#Create the sampler that computes the HS cost.\n",
    "def mkSampler(U_target):\n",
    "    inputs = ParameterVector(\"input\", 0)\n",
    "    weights = ParameterVector(\"weight\", n_params)\n",
    "    #print(f\"input parameters: {[str(item) for item in inputs.params]}\")\n",
    "    #print(f\"weight parameters: {[str(item) for item in weights.params]}\")\n",
    "    params_index=0\n",
    "    qc = QuantumCircuit(2*n_qubits)\n",
    "    qr=qc.qubits\n",
    "    A = [qr[i] for i in range(n_qubits)]\n",
    "    B = [qr[i] for i in range(n_qubits,n_qubits*2)]\n",
    "\n",
    "\n",
    "    qc.h(A)\n",
    "    qc.barrier()\n",
    "    qc.cx(A,B)\n",
    "    qc.barrier()\n",
    "    for layer in range(n_layers):        \n",
    "            for i in range(n_qubits):\n",
    "                qc.rx(weights[params_index],i)\n",
    "                params_index += 1\n",
    "\n",
    "            for i in range(n_qubits):\n",
    "                qc.ry(weights[params_index],i)\n",
    "                params_index += 1\n",
    "\n",
    "            for i in range(n_qubits):\n",
    "                qc.rz(weights[params_index],i)\n",
    "                params_index += 1\n",
    "                \n",
    "            for i in range(n_qubits-1):\n",
    "                qc.cy(i,i+1)\n",
    "                \n",
    "    qc.unitary(U_target.conjugate(),qubits=B, label='$U_{target}^{*}$')\n",
    "    qc.barrier()\n",
    "    qc.cx(A,B)\n",
    "    qc.barrier()\n",
    "    qc.h(A)\n",
    "    qc.barrier()\n",
    "    sampler_qnn = SamplerQNN(circuit=qc,input_params=inputs, weight_params=weights,\n",
    "                         interpret=countZero,output_shape=2\n",
    "                        )\n",
    "    return qc,sampler_qnn\n",
    "    \n",
    "    \n",
    "    \n",
    "def callback_graph(x,name='loss'):\n",
    "    #clear_output(wait=True)\n",
    "    plt.title(\"Training curve\")\n",
    "    plt.xlabel(\"Iteration\")\n",
    "    plt.ylabel(name)\n",
    "    plt.plot(range(len(x)), x)\n",
    "    plt.show()"
   ]
  },
  {
   "cell_type": "code",
   "execution_count": 114,
   "id": "c7e7a65e",
   "metadata": {},
   "outputs": [],
   "source": [
    "n_qubits=3\n",
    "dims=2**n_qubits\n",
    "n_layers=10\n",
    "n_params=n_qubits*n_layers*3\n",
    "#shots = 1000\n",
    "#sampler = Sampler(options={\"shots\": shots})\n",
    "\n",
    "zeroState = '0'\n",
    "for i in range(n_qubits-1):\n",
    "    zeroState+='0'"
   ]
  },
  {
   "cell_type": "code",
   "execution_count": 115,
   "id": "96d2f641",
   "metadata": {},
   "outputs": [
    {
     "name": "stderr",
     "output_type": "stream",
     "text": [
      "/Users/lizhelun/miniforge3/envs/qc/lib/python3.10/site-packages/qiskit/visualization/circuit/matplotlib.py:266: FutureWarning: The default matplotlib drawer scheme will be changed to \"iqp\" in a following release. To silence this warning, specify the current default explicitly as style=\"clifford\", or the new default as style=\"iqp\".\n",
      "  self._style, def_font_ratio = load_style(self._style)\n"
     ]
    }
   ],
   "source": [
    "# Create a target U\n",
    "targetParams=np.random.rand(n_params)*np.pi*2\n",
    "U_target=make_ansatz_unitary(num_qubits=n_qubits,num_layers=n_layers,params=targetParams)\n",
    "U_target=np.array(U_target)"
   ]
  },
  {
   "cell_type": "code",
   "execution_count": 116,
   "id": "a57022a6",
   "metadata": {},
   "outputs": [
    {
     "name": "stdout",
     "output_type": "stream",
     "text": [
      "number of parameters:  90\n"
     ]
    }
   ],
   "source": [
    "qc,sampler=mkSampler(U_target)\n",
    "print(\"number of parameters: \",qc.num_parameters)\n",
    "sampler_input = np.array([])\n",
    "sampler_weights = algorithm_globals.random.random(sampler.num_weights)"
   ]
  },
  {
   "cell_type": "code",
   "execution_count": 117,
   "id": "3f6bd502",
   "metadata": {},
   "outputs": [],
   "source": [
    "def getMag(x):\n",
    "    x2=x**2\n",
    "    return np.sqrt(x2.sum())\n",
    "\n",
    "def getCos(x,y):\n",
    "    cos=(x*y).sum()/(getMag(x)*getMag(y))\n",
    "    return cos\n",
    "\n",
    "def getDot(sampler,weights,rate):\n",
    "    input_grad,weight_grad=sampler.backward(sampler_input,weights)\n",
    "    grad0=weight_grad[0][1]\n",
    "    \n",
    "    newWeights=weights-rate*grad0\n",
    "    input_grad,weight_grad=sampler.backward(sampler_input,newWeights)\n",
    "    grad1=weight_grad[0][1]\n",
    "    \n",
    "    \n",
    "    return getCos(grad0,grad1),grad0,newWeights\n",
    "    "
   ]
  },
  {
   "cell_type": "code",
   "execution_count": 118,
   "id": "7a76b318",
   "metadata": {},
   "outputs": [],
   "source": [
    "def iteration(sampler,input_weights,steps=15,ini_rate=1e-1):\n",
    "    dot_list=[]\n",
    "    r_list=[]\n",
    "    w_list=[]\n",
    "    grad_list=[]\n",
    "    weights=input_weights\n",
    "    output_weights=input_weights\n",
    "    output_rate=ini_rate\n",
    "    rate=ini_rate\n",
    "    for i in range(15):\n",
    "        dot,grad,weights=getDot(sampler,weights,rate)\n",
    "        rate=rate*2\n",
    "\n",
    "        if dot < -0.3:\n",
    "            print(\"dot stop\")\n",
    "            output_rate=rate\n",
    "            #output_weights=weights\n",
    "            output_weights=(w_list[-1]+weights)/2\n",
    "            break\n",
    "            \n",
    "        if i>1 and dot_list[-1]-dot>0.5:\n",
    "            print(\"dot diff stop, dot= \",dot_list[-1],dot)\n",
    "            if dot>0:\n",
    "                output_weights=weights\n",
    "                output_rate=rate\n",
    "            elif dot<=0:\n",
    "                output_rate=rate\n",
    "                output_weights=(w_list[-1]+weights)/2\n",
    "                \n",
    "            break\n",
    "            \n",
    "        \n",
    "        dot_list.append(dot)\n",
    "        r_list.append(rate)\n",
    "        w_list.append(weights)\n",
    "        grad_list.append(grad)\n",
    "            \n",
    "    if output_weights.all()==weights.all():\n",
    "        dot_list=np.array(dot_list)\n",
    "        diff=(dot_list[0:-1]-dot_list[1:])\n",
    "        index=np.where(diff==diff.max())[0][0]\n",
    "        output_weights=w_list[index]\n",
    "        output_rate=r_list[index]\n",
    "        \n",
    "    \n",
    "    return output_weights,output_rate\n",
    "        "
   ]
  },
  {
   "cell_type": "code",
   "execution_count": 150,
   "id": "c3182f05",
   "metadata": {},
   "outputs": [
    {
     "name": "stdout",
     "output_type": "stream",
     "text": [
      "dot diff stop, dot=  0.5977866453982648 -0.05671071188497059\n",
      "0 0.9505354195370417 6.4\n",
      "dot stop\n",
      "1 0.9044140164752091 2.56\n",
      "dot stop\n",
      "2 0.8105583747343443 2.048\n",
      "dot diff stop, dot=  0.7923643120206347 -0.06660458964332504\n",
      "3 0.6757059088676388 1.6384\n",
      "dot stop\n",
      "4 0.44995186527090286 2.62144\n",
      "dot stop\n",
      "5 0.29202759186046007 4.194304000000001\n",
      "dot diff stop, dot=  0.8948564988339306 -0.034814553102931585\n",
      "6 0.22729757441093507 3.3554432000000007\n",
      "dot diff stop, dot=  0.9315723030413673 0.3696423781212546\n",
      "7 0.17423107142738503 2.6843545600000005\n",
      "dot diff stop, dot=  0.6934705438774429 -0.13863298973489066\n",
      "8 0.0968298081891374 4.294967296000001\n",
      "dot diff stop, dot=  0.8997822674938204 0.2809976555785816\n",
      "9 0.06413262282166567 3.435973836800001\n",
      "dot diff stop, dot=  0.841557835971369 -0.16849157353566402\n",
      "10 0.0352340208900447 5.497558138880001\n",
      "dot stop\n",
      "11 0.024700704020095297 4.398046511104001\n",
      "dot stop\n",
      "12 0.0194643709970023 3.5184372088832006\n",
      "dot stop\n",
      "13 0.013727897365979205 5.629499534213121\n",
      "dot diff stop, dot=  0.9443847355204025 -0.0473211144785805\n",
      "14 0.0124873107970666 2.251799813685248\n",
      "dot stop\n",
      "15 0.010482927907870802 3.602879701896397\n",
      "dot stop\n",
      "16 0.0082246279980011 5.764607523034235\n",
      "dot diff stop, dot=  0.8846357597733647 -0.24917853179139157\n",
      "17 0.0076981329822393 2.305843009213694\n",
      "dot stop\n",
      "18 0.006819290539627899 3.6893488147419107\n",
      "dot diff stop, dot=  0.9849603907270931 0.24910127974145121\n",
      "19 0.006289376795682401 2.9514790517935285\n",
      "dot diff stop, dot=  0.9182748834875042 -0.2700749365389346\n",
      "20 0.005553093134433598 4.722366482869646\n",
      "dot stop\n",
      "21 0.0051135415623580005 3.7778931862957164\n",
      "dot diff stop, dot=  0.963301056411207 -0.008394185792958236\n",
      "22 0.004810506476480802 3.0223145490365733\n",
      "dot stop\n",
      "23 0.0043621822808971 4.835703278458517\n",
      "dot diff stop, dot=  0.9823686313012627 0.38451620418984434\n",
      "24 0.0042357598096555 1.934281311383407\n",
      "dot stop\n",
      "25 0.0037702322824957005 6.1897001964269025\n",
      "dot stop\n",
      "26 0.0036447286713747 2.475880078570761\n",
      "dot diff stop, dot=  0.9854902533282334 0.42454112370552066\n",
      "27 0.0035336344066119003 1.9807040628566088\n",
      "dot stop\n",
      "28 0.0031788753090656 6.338253001141148\n",
      "dot stop\n",
      "29 0.0030818762456828 2.5353012004564595\n",
      "dot diff stop, dot=  0.9733638456562551 0.23727463691030523\n",
      "30 0.0029955463930261004 2.0282409603651677\n",
      "dot diff stop, dot=  0.9899530257160609 0.27468578409214983\n",
      "31 0.0028566637371219014 3.2451855365842683\n",
      "dot diff stop, dot=  0.9694125710797517 -0.08693468774409006\n",
      "32 0.0026553532350389003 5.19229685853483\n",
      "dot stop\n",
      "33 0.0025208108039578006 4.153837486827864\n",
      "dot stop\n",
      "34 0.0024216295860786 3.323069989462291\n",
      "dot stop\n",
      "35 0.0022659264374637 5.316911983139666\n",
      "dot diff stop, dot=  0.9101191418760692 -0.13238823892293597\n",
      "36 0.0022199369271233994 2.1267647932558664\n",
      "dot diff stop, dot=  0.9340199297781088 -0.17651489866169237\n",
      "37 0.0021322857026249992 3.4028236692093863\n",
      "dot diff stop, dot=  0.9768446205996578 -0.039136847449404565\n",
      "38 0.0020027368978171997 5.444517870735018\n",
      "dot stop\n",
      "39 0.0019138678365814006 4.355614296588014\n",
      "dot stop\n",
      "40 0.0018469030936197998 3.484491437270411\n",
      "dot stop\n",
      "41 0.0017387775195378 5.575186299632658\n",
      "dot diff stop, dot=  0.9701414435444133 0.16531315535839572\n",
      "42 0.0017059975345683996 2.230074519853063\n",
      "dot diff stop, dot=  0.9628153778688936 -0.05115784422998593\n",
      "43 0.0016424611766694996 3.568119231764901\n",
      "dot diff stop, dot=  0.9333905784918713 -0.25410899274614485\n",
      "44 0.0015457918604296003 5.708990770823841\n",
      "dot diff stop, dot=  0.9753816621105572 0.208575596124848\n",
      "45 0.0015161560204027002 2.2835963083295363\n",
      "dot diff stop, dot=  0.9610685074348937 -0.06827685709109933\n",
      "46 0.0014583705365593996 3.653754093327258\n",
      "dot stop\n",
      "47 0.0013696561179183998 5.846006549323613\n",
      "dot diff stop, dot=  0.8852286614052142 -0.23015957764491501\n",
      "48 0.0013422741354768 2.3384026197294454\n",
      "dot stop\n",
      "49 0.0012886744126006 3.741444191567113\n"
     ]
    }
   ],
   "source": [
    "weights=sampler_weights\n",
    "ini_rate=1e-1\n",
    "cost_list=[]\n",
    "rate_list=[]\n",
    "for i in range(50):\n",
    "    weights,rate=iteration(sampler,weights,steps=20,ini_rate=ini_rate)\n",
    "    ini_rate=rate/10\n",
    "    cost=sampler.forward(sampler_input,weights)[0][1]\n",
    "    cost_list.append(cost)\n",
    "    rate_list.append(rate)\n",
    "    print(i, cost,rate)\n",
    "    "
   ]
  },
  {
   "cell_type": "code",
   "execution_count": 151,
   "id": "a574d4d3",
   "metadata": {},
   "outputs": [
    {
     "data": {
      "image/png": "[encoded data removed]",
      "text/plain": [
       "<Figure size 432x288 with 1 Axes>"
      ]
     },
     "metadata": {
      "needs_background": "light"
     },
     "output_type": "display_data"
    }
   ],
   "source": [
    "plt.plot(range(len(cost_list)),cost_list)\n",
    "plt.yscale('log')"
   ]
  },
  {
   "cell_type": "code",
   "execution_count": 152,
   "id": "4a21447c",
   "metadata": {},
   "outputs": [
    {
     "data": {
      "text/plain": [
       "[<matplotlib.lines.Line2D at 0x2914773d0>]"
      ]
     },
     "execution_count": 152,
     "metadata": {},
     "output_type": "execute_result"
    },
    {
     "data": {
      "image/png": "[encoded data removed]",
      "text/plain": [
       "<Figure size 432x288 with 1 Axes>"
      ]
     },
     "metadata": {
      "needs_background": "light"
     },
     "output_type": "display_data"
    }
   ],
   "source": [
    "plt.plot(range(len(rate_list)),rate_list)"
   ]
  },
  {
   "cell_type": "code",
   "execution_count": null,
   "id": "cdf23ad2",
   "metadata": {},
   "outputs": [],
   "source": []
  },
  {
   "cell_type": "code",
   "execution_count": null,
   "id": "ac826dac",
   "metadata": {},
   "outputs": [],
   "source": []
  },
  {
   "cell_type": "code",
   "execution_count": 129,
   "id": "8577a68f",
   "metadata": {},
   "outputs": [],
   "source": [
    "import torch\n",
    "from torch.autograd import Variable\n",
    "from torch import Tensor\n",
    "from torch.nn import Linear, CrossEntropyLoss, MSELoss\n",
    "from torch.optim import LBFGS\n",
    "from qiskit_machine_learning.connectors import TorchConnector\n",
    "from torch.optim import Adam,SGD"
   ]
  },
  {
   "cell_type": "code",
   "execution_count": 130,
   "id": "b30f5b3a",
   "metadata": {},
   "outputs": [],
   "source": [
    "def train_ADAM_pytorch(sampler,lr=1e-1,max_iter=100):\n",
    "    init = algorithm_globals.random.random(sampler.num_weights)\n",
    "    sampler_torch = TorchConnector(sampler, initial_weights=init)\n",
    "    optimizer = Adam(sampler_torch.parameters(),lr=lr)\n",
    "    f_loss = CrossEntropyLoss()  \n",
    "    X=Tensor(sampler_input)\n",
    "    y=Tensor(np.array([1,0]))\n",
    "\n",
    "    \n",
    "    # Start training\n",
    "    sampler_torch.train()\n",
    "    global costList\n",
    "    costList=[]\n",
    "\n",
    "    for i in range(max_iter):\n",
    "        optimizer.zero_grad(set_to_none=True)  # Initialize gradient\n",
    "        loss = f_loss(sampler_torch(X), y)  # Calculate loss\n",
    "        loss.backward()  # Backward pass\n",
    "\n",
    "        for param in sampler_torch.parameters():\n",
    "            w=param.detach().numpy()\n",
    "        cost=sampler.forward(sampler_input,w)[0][1]\n",
    "        costList.append(cost)\n",
    "        print(cost)\n",
    "        optimizer.step();\n",
    "        if cost<1e-5:\n",
    "            break\n",
    "\n",
    "    return costList\n",
    "    "
   ]
  },
  {
   "cell_type": "code",
   "execution_count": 137,
   "id": "d8c7f9d5",
   "metadata": {
    "scrolled": true
   },
   "outputs": [
    {
     "name": "stdout",
     "output_type": "stream",
     "text": [
      "0.9988185137417185\n",
      "0.9546129965719332\n",
      "0.86870619678334\n",
      "0.7300521904409498\n",
      "0.6187940614591696\n",
      "0.5557385628570741\n",
      "0.5171417291317159\n",
      "0.47527161550870434\n",
      "0.42324506305899956\n",
      "0.37766777842277593\n",
      "0.34745863244146\n",
      "0.33342984927924263\n",
      "0.3215757550145527\n",
      "0.3026663552349369\n",
      "0.2783002074194958\n",
      "0.2545896047328187\n",
      "0.23898403439704044\n",
      "0.23058414341462974\n",
      "0.2210061946658721\n",
      "0.2063926846632319\n",
      "0.19036010415642368\n",
      "0.17730674000596566\n",
      "0.1664185452275641\n",
      "0.15351605879291\n",
      "0.1378920292067866\n",
      "0.1224039578160787\n",
      "0.10936944596417547\n",
      "0.0995974538349791\n",
      "0.09267042201111769\n",
      "0.0863448335708389\n",
      "0.0786179864911543\n",
      "0.06967014585780659\n",
      "0.060916348379309995\n",
      "0.05353850223251539\n",
      "0.04744648026467201\n",
      "0.04154366101897311\n",
      "0.0359703255392144\n",
      "0.0326709939352146\n",
      "0.03229236742775\n",
      "0.0321937715977471\n",
      "0.029975681900553695\n",
      "0.026953268468091297\n",
      "0.025368842900438494\n",
      "0.024845262472954797\n",
      "0.023624142373634395\n",
      "0.0212286339461548\n",
      "0.018464793956659696\n",
      "0.0160072100844748\n",
      "0.014066516669992998\n",
      "0.012624851668676797\n",
      "34.30387496948242\n"
     ]
    }
   ],
   "source": [
    "t1=time.time()\n",
    "cost_list_ADAMtorch_1en1=train_ADAM_pytorch(sampler,lr=1e-1,max_iter=50)\n",
    "print(time.time()-t1)"
   ]
  },
  {
   "cell_type": "code",
   "execution_count": 138,
   "id": "c999c9be",
   "metadata": {
    "scrolled": true
   },
   "outputs": [
    {
     "name": "stdout",
     "output_type": "stream",
     "text": [
      "0.9461191352376142\n",
      "0.9543179966646629\n",
      "0.9679623740975756\n",
      "0.9903085607242468\n",
      "0.999322049262398\n",
      "0.9815020728646152\n",
      "0.9665676203941074\n",
      "0.924556201239268\n",
      "0.9865543189580698\n",
      "0.9612586298300193\n",
      "0.9419234054061495\n",
      "0.8749743672667951\n",
      "0.8254593696179563\n",
      "0.8901574024760219\n",
      "0.920816782473999\n",
      "0.9067154282061709\n",
      "0.8139958753374305\n",
      "0.7072359506943064\n",
      "0.7244892270178933\n",
      "0.6570023478253368\n",
      "0.600480339035917\n",
      "0.5725524007600894\n",
      "0.44964563128397567\n",
      "0.4996877564756564\n",
      "0.45310971182232035\n",
      "0.4034184177469192\n",
      "0.26878227062080867\n",
      "0.3138617450323658\n",
      "0.34299604441226234\n",
      "0.24880792699619167\n",
      "0.2543221514071503\n",
      "0.20979852075075\n",
      "0.1797931023959631\n",
      "0.17879221459160957\n",
      "0.18430781795847107\n",
      "0.18500350943259208\n",
      "0.13716343760584557\n",
      "0.13701559229411453\n",
      "0.10931799169336509\n",
      "0.1117160374878417\n",
      "0.13985726560620396\n",
      "0.11844845130709226\n",
      "0.07658690882377199\n",
      "0.08521761693301899\n",
      "0.08003903063840823\n",
      "0.06735839559454698\n",
      "0.0669132807398461\n",
      "0.0624399624803037\n",
      "0.049949898131643584\n",
      "0.05166679477379858\n",
      "34.3522732257843\n"
     ]
    }
   ],
   "source": [
    "t1=time.time()\n",
    "cost_list_ADAMtorch_1e0=train_ADAM_pytorch(sampler,lr=1e0,max_iter=50)\n",
    "print(time.time()-t1)"
   ]
  },
  {
   "cell_type": "code",
   "execution_count": null,
   "id": "03ba1045",
   "metadata": {},
   "outputs": [],
   "source": []
  },
  {
   "cell_type": "code",
   "execution_count": 139,
   "id": "13b2f2c8",
   "metadata": {},
   "outputs": [],
   "source": [
    "def train_LBFGS_pytorch(sampler,lr=1e-1,max_iter=150):\n",
    "    init = algorithm_globals.random.random(sampler.num_weights)\n",
    "    sampler_torch = TorchConnector(sampler, initial_weights=init)\n",
    "    optimizer = LBFGS(sampler_torch.parameters(),lr=lr, max_iter=max_iter)\n",
    "    f_loss = CrossEntropyLoss()  \n",
    "    X=Tensor(sampler_input)\n",
    "    y=Tensor(np.array([1,0]))\n",
    "    print(sampler.forward(sampler_input,init))\n",
    "    \n",
    "    # Start training\n",
    "    sampler_torch.train()\n",
    "    global costList\n",
    "    costList=[]\n",
    "    # Define LBFGS closure method (explained in previous section)\n",
    "    def closure():\n",
    "        global costList\n",
    "        optimizer.zero_grad(set_to_none=True)  # Initialize gradient\n",
    "        loss = f_loss(sampler_torch(X), y)  # Calculate loss\n",
    "        loss.backward()  # Backward pass\n",
    "\n",
    "        for param in sampler_torch.parameters():\n",
    "            w=param.detach().numpy()\n",
    "        cost=sampler.forward(sampler_input,w)[0][1]\n",
    "        costList.append(cost)\n",
    "        if(len(costList)%20==0):\n",
    "            print(cost)\n",
    "\n",
    "        return loss\n",
    "\n",
    "    # Run optimizer (LBFGS requires closure)\n",
    "    optimizer.step(closure);\n",
    "        \n",
    "    return costList\n",
    "    "
   ]
  },
  {
   "cell_type": "code",
   "execution_count": 143,
   "id": "4aa0015c",
   "metadata": {},
   "outputs": [
    {
     "name": "stdout",
     "output_type": "stream",
     "text": [
      "[[0.00985502 0.99014498]]\n",
      "0.9388886332447299\n",
      "0.8581470984081744\n",
      "0.23338144099316918\n",
      "0.02964662549071619\n",
      "0.008632687788880001\n",
      "0.0031146573369789004\n",
      "0.0010870527002674996\n",
      "0.00036222699589839993\n",
      "0.00014983777710729992\n",
      "7.684961371619998e-05\n",
      "135.67455101013184\n"
     ]
    }
   ],
   "source": [
    "cost_list_LBFGStorch_1en1=[]\n",
    "t1=time.time()\n",
    "cost_list_LBFGStorch_1en1=train_LBFGS_pytorch(sampler,lr=1e-1,max_iter=200)\n",
    "print(time.time()-t1)"
   ]
  },
  {
   "cell_type": "code",
   "execution_count": 141,
   "id": "db2eb42c",
   "metadata": {},
   "outputs": [
    {
     "name": "stdout",
     "output_type": "stream",
     "text": [
      "[[0.02032175 0.97967825]]\n",
      "0.6557789929018707\n",
      "0.0061141636760428985\n",
      "0.00019008442491049994\n",
      "1.5542641052799997e-05\n",
      "63.49890875816345\n"
     ]
    }
   ],
   "source": [
    "cost_list_LBFGStorch_1e0=[]\n",
    "t1=time.time()\n",
    "cost_list_LBFGStorch_1e0=train_LBFGS_pytorch(sampler,lr=1e0,max_iter=100)\n",
    "print(time.time()-t1)"
   ]
  },
  {
   "cell_type": "code",
   "execution_count": null,
   "id": "67b8eefa",
   "metadata": {},
   "outputs": [],
   "source": []
  },
  {
   "cell_type": "code",
   "execution_count": null,
   "id": "b0167bd2",
   "metadata": {},
   "outputs": [],
   "source": []
  },
  {
   "cell_type": "code",
   "execution_count": 153,
   "id": "9456b5f2",
   "metadata": {},
   "outputs": [
    {
     "data": {
      "text/plain": [
       "<matplotlib.legend.Legend at 0x291c676a0>"
      ]
     },
     "execution_count": 153,
     "metadata": {},
     "output_type": "execute_result"
    },
    {
     "data": {
      "text/plain": [
       "<Figure size 432x288 with 0 Axes>"
      ]
     },
     "metadata": {},
     "output_type": "display_data"
    },
    {
     "data": {
      "image/png": "[encoded data removed]",
      "text/plain": [
       "<Figure size 1152x648 with 1 Axes>"
      ]
     },
     "metadata": {
      "needs_background": "light"
     },
     "output_type": "display_data"
    }
   ],
   "source": [
    "LabelSize=15\n",
    "plt.figure(1)\n",
    "plt.figure(figsize=(16,9))\n",
    "plt.yscale('log')\n",
    "plt.ylim(1e-5,1.1)\n",
    "\n",
    "plt.plot(range(len(cost_list_ADAMtorch_1en1)),cost_list_ADAMtorch_1en1,label='ADAM initial = 1e-1')\n",
    "plt.plot(range(len(cost_list_ADAMtorch_1e0)),cost_list_ADAMtorch_1e0,label='ADAM initial = 1e0')\n",
    "\n",
    "plt.plot(range(len(cost_list_LBFGStorch_1en1)),cost_list_LBFGStorch_1en1,label='LBFGS initial = 1e-1')\n",
    "plt.plot(range(len(cost_list_LBFGStorch_1e0)),cost_list_LBFGStorch_1e0,label='LBFGS initial = 1e0')\n",
    "\n",
    "plt.plot(range(len(cost_list)),cost_list,label='mine')\n",
    "plt.yscale('log')\n",
    "\n",
    "plt.xlabel('Iterations',fontsize=LabelSize)\n",
    "plt.ylabel('Loss',fontsize=LabelSize)\n",
    "plt.tick_params(axis='both', which='major', labelsize=LabelSize)\n",
    "plt.legend(fontsize=LabelSize)"
   ]
  },
  {
   "cell_type": "code",
   "execution_count": null,
   "id": "a69fbabe",
   "metadata": {},
   "outputs": [],
   "source": []
  },
  {
   "cell_type": "code",
   "execution_count": null,
   "id": "34f190f7",
   "metadata": {},
   "outputs": [],
   "source": []
  }
 ],
 "metadata": {
  "kernelspec": {
   "display_name": "qc",
   "language": "python",
   "name": "qc"
  },
  "language_info": {
   "codemirror_mode": {
    "name": "ipython",
    "version": 3
   },
   "file_extension": ".py",
   "mimetype": "text/x-python",
   "name": "python",
   "nbconvert_exporter": "python",
   "pygments_lexer": "ipython3",
   "version": "3.10.4"
  }
 },
 "nbformat": 4,
 "nbformat_minor": 5
}
